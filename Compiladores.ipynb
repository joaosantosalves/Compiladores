{
  "nbformat": 4,
  "nbformat_minor": 0,
  "metadata": {
    "colab": {
      "name": "Compiladores",
      "provenance": [],
      "authorship_tag": "ABX9TyNzcfxvMAvJCoIimYYVNptX",
      "include_colab_link": true
    },
    "kernelspec": {
      "name": "python3",
      "display_name": "Python 3"
    },
    "language_info": {
      "name": "python"
    }
  },
  "cells": [
    {
      "cell_type": "markdown",
      "metadata": {
        "id": "view-in-github",
        "colab_type": "text"
      },
      "source": [
        "<a href=\"https://colab.research.google.com/github/joaosantosalves/teste/blob/master/Compiladores.ipynb\" target=\"_parent\"><img src=\"https://colab.research.google.com/assets/colab-badge.svg\" alt=\"Open In Colab\"/></a>"
      ]
    },
    {
      "cell_type": "code",
      "metadata": {
        "colab": {
          "base_uri": "https://localhost:8080/"
        },
        "id": "leE8sVKx2Tor",
        "outputId": "e0e0a1e8-c82c-48d6-91b2-94329253ae36"
      },
      "source": [
        "def analizer_lexico(checking_component, component_array):\n",
        "    for k in range(0,len(checking_component)):\n",
        "        component_array.append(number(checking_component[k]))\n",
        "        component_array.append(literal(checking_component[k]))\n",
        "        component_array.append(id(checking_component[k]))\n",
        "        component_array.append(comment(checking_component[k]))\n",
        "        component_array.append(archive_final(checking_component[k]))\n",
        "        component_array.append(relational_operators(checking_component[k]))\n",
        "        component_array.append(assignment(checking_component[k]))\n",
        "        component_array.append(arithmetic_operators(checking_component[k]))\n",
        "        component_array.append(parentheses_open(checking_component[k]))\n",
        "        component_array.append(parentheses_close(checking_component[k]))\n",
        "        component_array.append(semicolon(checking_component[k]))\n",
        "        component_array.append(comma(checking_component[k]))\n",
        "    return component_array\n",
        "\n",
        "def number(number_analysis):\n",
        "        switcher={            \n",
        "            '0':'Number',\n",
        "            '1':'Number',\n",
        "            '2':'Number',\n",
        "            '3':'Number',\n",
        "            '4':'Number',\n",
        "            '5':'Number',\n",
        "            '6':'Number',\n",
        "            '7':'Number',\n",
        "            '8':'Number',\n",
        "            '9':'Number',\n",
        "            'e':'Number',\n",
        "            'E':'Number'\n",
        "        }\n",
        "        return switcher.get(number_analysis, 0)\n",
        "\n",
        "def literal(number_analysis):\n",
        "  switcher={            \n",
        "            '\"':'Literal',\n",
        "            '\"':'Literal'\n",
        "  }\n",
        "  return switcher.get(number_analysis,0)\n",
        "\n",
        "def id(number_analysis):\n",
        "  switcher={            \n",
        "            'L':'id',\n",
        "            'D':'id',\n",
        "            '_':'id'\n",
        "  }\n",
        "  return switcher.get(number_analysis,0)\n",
        "\n",
        "def comment(number_analysis):\n",
        "  switcher={            \n",
        "            '{':'Comment',\n",
        "            '}':'Comment',\n",
        "            '_':'Comment'\n",
        "  }\n",
        "  return switcher.get(number_analysis,0)\n",
        "\n",
        "def archive_final(number_analysis):\n",
        "  switcher={            \n",
        "            ' ':'EOF'\n",
        "  }\n",
        "  return switcher.get(number_analysis,0)\n",
        "\n",
        "def relational_operators(number_analysis):\n",
        "  switcher={            \n",
        "            '<':'OPR',\n",
        "            '>':'OPR',\n",
        "            '=':'OPR'\n",
        "  }\n",
        "  return switcher.get(number_analysis,0)\n",
        "\n",
        "def assignment(number_analysis):\n",
        "  switcher={            \n",
        "            '-':'RCB'\n",
        "  }\n",
        "  return switcher.get(number_analysis,0)\n",
        "def arithmetic_operators(number_analysis):\n",
        "  switcher={            \n",
        "            '+':'OPM',\n",
        "            '-':'OPM',\n",
        "            '*':'OPM',\n",
        "            '/':'OPM'\n",
        "  }\n",
        "  return switcher.get(number_analysis,0)\n",
        "def parentheses_open(number_analysis):\n",
        "  switcher={            \n",
        "            '(':'AB_P'\n",
        "  }\n",
        "  return switcher.get(number_analysis,0)\n",
        "def parentheses_close(number_analysis):\n",
        "  switcher={            \n",
        "            ')':'FC_P'\n",
        "  }\n",
        "  return switcher.get(number_analysis,0)\n",
        "def semicolon(number_analysis):\n",
        "  switcher={            \n",
        "            ';':'PT_V'\n",
        "  }\n",
        "  return switcher.get(number_analysis,0)\n",
        "\n",
        "def comma(number_analysis):\n",
        "  switcher={            \n",
        "            ',':'VIR'\n",
        "  }\n",
        "  return switcher.get(number_analysis,0)\n",
        "\n",
        "a = '0\" '\n",
        "b = []\n",
        "analizer_lexico(a,b)"
      ],
      "execution_count": 77,
      "outputs": [
        {
          "output_type": "execute_result",
          "data": {
            "text/plain": [
              "['Number',\n",
              " 0,\n",
              " 0,\n",
              " 0,\n",
              " 0,\n",
              " 0,\n",
              " 0,\n",
              " 0,\n",
              " 0,\n",
              " 0,\n",
              " 0,\n",
              " 0,\n",
              " 0,\n",
              " 'Literal',\n",
              " 0,\n",
              " 0,\n",
              " 0,\n",
              " 0,\n",
              " 0,\n",
              " 0,\n",
              " 0,\n",
              " 0,\n",
              " 0,\n",
              " 0,\n",
              " 0,\n",
              " 0,\n",
              " 0,\n",
              " 0,\n",
              " 'EOF',\n",
              " 0,\n",
              " 0,\n",
              " 0,\n",
              " 0,\n",
              " 0,\n",
              " 0,\n",
              " 0]"
            ]
          },
          "metadata": {
            "tags": []
          },
          "execution_count": 77
        }
      ]
    },
    {
      "cell_type": "code",
      "metadata": {
        "colab": {
          "base_uri": "https://localhost:8080/",
          "height": 229
        },
        "id": "QZVODxqON65i",
        "outputId": "a0f6eaf0-0145-49ae-bb29-156af2caf8ae"
      },
      "source": [
        "k = [0]\n",
        "for i in range (0,5):\n",
        "  k.append(1)\n",
        "  k.append(2)\n",
        "  k.append(3)\n",
        "\n",
        "j = len(k)\n",
        "for m in range (0,j):\n",
        "  if k[m] == 1:\n",
        "    j = 1 - j\n",
        "    k.remove(1)\n",
        "    \n",
        "print(k)\n",
        "  "
      ],
      "execution_count": 97,
      "outputs": [
        {
          "output_type": "error",
          "ename": "IndexError",
          "evalue": "ignored",
          "traceback": [
            "\u001b[0;31m---------------------------------------------------------------------------\u001b[0m",
            "\u001b[0;31mIndexError\u001b[0m                                Traceback (most recent call last)",
            "\u001b[0;32m<ipython-input-97-6b4d8985d2fc>\u001b[0m in \u001b[0;36m<module>\u001b[0;34m()\u001b[0m\n\u001b[1;32m      7\u001b[0m \u001b[0mj\u001b[0m \u001b[0;34m=\u001b[0m \u001b[0mlen\u001b[0m\u001b[0;34m(\u001b[0m\u001b[0mk\u001b[0m\u001b[0;34m)\u001b[0m\u001b[0;34m\u001b[0m\u001b[0;34m\u001b[0m\u001b[0m\n\u001b[1;32m      8\u001b[0m \u001b[0;32mfor\u001b[0m \u001b[0mm\u001b[0m \u001b[0;32min\u001b[0m \u001b[0mrange\u001b[0m \u001b[0;34m(\u001b[0m\u001b[0;36m0\u001b[0m\u001b[0;34m,\u001b[0m\u001b[0mj\u001b[0m\u001b[0;34m)\u001b[0m\u001b[0;34m:\u001b[0m\u001b[0;34m\u001b[0m\u001b[0;34m\u001b[0m\u001b[0m\n\u001b[0;32m----> 9\u001b[0;31m   \u001b[0;32mif\u001b[0m \u001b[0mk\u001b[0m\u001b[0;34m[\u001b[0m\u001b[0mm\u001b[0m\u001b[0;34m]\u001b[0m \u001b[0;34m==\u001b[0m \u001b[0;36m1\u001b[0m\u001b[0;34m:\u001b[0m\u001b[0;34m\u001b[0m\u001b[0;34m\u001b[0m\u001b[0m\n\u001b[0m\u001b[1;32m     10\u001b[0m     \u001b[0mj\u001b[0m \u001b[0;34m=\u001b[0m \u001b[0;36m1\u001b[0m \u001b[0;34m-\u001b[0m \u001b[0mj\u001b[0m\u001b[0;34m\u001b[0m\u001b[0;34m\u001b[0m\u001b[0m\n\u001b[1;32m     11\u001b[0m     \u001b[0mk\u001b[0m\u001b[0;34m.\u001b[0m\u001b[0mremove\u001b[0m\u001b[0;34m(\u001b[0m\u001b[0;36m1\u001b[0m\u001b[0;34m)\u001b[0m\u001b[0;34m\u001b[0m\u001b[0;34m\u001b[0m\u001b[0m\n",
            "\u001b[0;31mIndexError\u001b[0m: list index out of range"
          ]
        }
      ]
    }
  ]
}